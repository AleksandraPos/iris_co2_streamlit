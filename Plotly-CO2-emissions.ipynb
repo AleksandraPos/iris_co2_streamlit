{
 "cells": [
  {
   "cell_type": "markdown",
   "metadata": {},
   "source": [
    "# Challenge - CO2 Emissions 🌎"
   ]
  },
  {
   "cell_type": "markdown",
   "metadata": {},
   "source": [
    "import pandas and pyplot"
   ]
  },
  {
   "cell_type": "code",
   "execution_count": 4,
   "metadata": {},
   "outputs": [],
   "source": [
    "#import\n"
   ]
  },
  {
   "cell_type": "markdown",
   "metadata": {},
   "source": [
    "### Download the Data "
   ]
  },
  {
   "cell_type": "markdown",
   "metadata": {},
   "source": [
    "just run the cell"
   ]
  },
  {
   "cell_type": "code",
   "execution_count": 5,
   "metadata": {},
   "outputs": [],
   "source": [
    "! mkdir ../data\n",
    "! curl https://storage.googleapis.com/schoolofdata-datasets/Data-Analysis.Data-Visualization/CO2_per_capita.csv > ../data/CO2_per_capita.csv\n",
    "! tree .."
   ]
  },
  {
   "cell_type": "markdown",
   "metadata": {},
   "source": [
    "**Q1**. Load the dataset `CO2_per_capita.csv` into a **Pandas Dataframe**. What does this dataset contain?"
   ]
  },
  {
   "cell_type": "code",
   "execution_count": 6,
   "metadata": {
    "code_folding": []
   },
   "outputs": [],
   "source": [
    "# TODO: Load dataset"
   ]
  },
  {
   "cell_type": "code",
   "execution_count": 7,
   "metadata": {},
   "outputs": [],
   "source": [
    "# TODO: .info()"
   ]
  },
  {
   "cell_type": "code",
   "execution_count": 8,
   "metadata": {},
   "outputs": [],
   "source": [
    "#.describe"
   ]
  },
  {
   "cell_type": "markdown",
   "metadata": {},
   "source": [
    "***Create a function whose parameters are a start year, an end year, and a number of countries to be displayed.***\n",
    "\n",
    "This function should filter the dataframe by start and end year. \n",
    "\n",
    "It should then average Co2 emissions by country. \n",
    "\n",
    "It should then keep only the number of countries chosen (top_x).\n",
    "\n",
    "it will return a bar plot with plotly"
   ]
  },
  {
   "cell_type": "code",
   "execution_count": 9,
   "metadata": {},
   "outputs": [],
   "source": [
    "def top_n_emitters(df, start_year=2008, end_year=2011, nb_displayed=10):\n",
    "    \n",
    "    #years filter\n",
    "    \n",
    "    #do the mean for each country\n",
    "    \n",
    "    #sort the values and keep nb_displayed\n",
    "    \n",
    "    #create the fig\n",
    "    \n",
    "    #return the fig\n",
    "    pass"
   ]
  },
  {
   "cell_type": "code",
   "execution_count": 10,
   "metadata": {},
   "outputs": [],
   "source": [
    "#try the function here\n",
    "fig = top_n_emitters(co2_df, 1965, 1970, 5)\n",
    "fig.show()"
   ]
  },
  {
   "cell_type": "markdown",
   "metadata": {},
   "source": [
    "Now we're going to display the data with a scatter plot on an interactive map. \n",
    "- Use the __px.scatter_geo__ function for this. \n",
    "- This works with country code. We have this information in the “Country Code” column.\n",
    "- The size of the points will depend on the amount of CO2 per country.\n",
    "- We want the map to evolve over the years. (use the animation_frame parameter.)\n",
    "\n",
    "Optional: Test the __projection__ and the __hover_name__  parameters."
   ]
  },
  {
   "cell_type": "code",
   "execution_count": 11,
   "metadata": {
    "scrolled": true
   },
   "outputs": [],
   "source": [
    "# TODO: Visualize your data on a World map\n",
    "#fig = px.scatter_geo()\n",
    "#fig.show()\n"
   ]
  },
  {
   "cell_type": "markdown",
   "metadata": {},
   "source": [
    "## Streamlit \n",
    "\n",
    "Now create an app.py file. \n",
    "\n",
    "Add :\n",
    "    \n",
    "    - libraries\n",
    "    \n",
    "    - title\n",
    "\n",
    "    - the dataframe\n",
    "\n",
    "    - a function to create a bar chart of the top n countries with the highest Co2 per capita emissions\n",
    "\n",
    "    -a slider to select the year. key to parameters (min_values, max_values, value)\n",
    "\n",
    "    - a selectbox to choose how many countries to display in the top n. Select values should be [3,5,10,20,30].\n",
    "\n",
    "    - use the function you added above (make sure your slider and select box values are stored in variables)\n",
    "\n",
    "    - add the map you made with scatter geo\n",
    "\n"
   ]
  },
  {
   "cell_type": "markdown",
   "metadata": {},
   "source": [
    "# Part 2 \n",
    "\n",
    "We're going to add a little color to our graphics. From now on, we'd like the color of a country to depend on the continent on which it's located. To do this, we need to add a continent column to our dataframe. Let's upload this information into a new dataframe"
   ]
  },
  {
   "cell_type": "markdown",
   "metadata": {},
   "source": [
    "Let's now to try to get some more data to complete our dataset"
   ]
  },
  {
   "cell_type": "code",
   "execution_count": 12,
   "metadata": {},
   "outputs": [],
   "source": [
    "! curl https://gist.githubusercontent.com/stevewithington/20a69c0b6d2ff846ea5d35e5fc47f26c/raw/13716ceb2f22b5643ce5e7039643c86a0e0c6da6/country-and-continent-codes-list-csv.csv > ../data/geo_data.csv"
   ]
  },
  {
   "cell_type": "markdown",
   "metadata": {},
   "source": [
    "A new file has been downloaded to a data folder. Open it."
   ]
  },
  {
   "cell_type": "code",
   "execution_count": 13,
   "metadata": {},
   "outputs": [],
   "source": [
    "#open the file\n"
   ]
  },
  {
   "cell_type": "markdown",
   "metadata": {},
   "source": [
    "We're going to make a join with the previous table. Let's select only the two columns of interest"
   ]
  },
  {
   "cell_type": "code",
   "execution_count": 14,
   "metadata": {},
   "outputs": [],
   "source": [
    "#Selects the two most important columns in a new DataFrame (in this case we want to retrieve the continent information)\n"
   ]
  },
  {
   "cell_type": "code",
   "execution_count": 15,
   "metadata": {},
   "outputs": [],
   "source": [
    "#Make the join\n"
   ]
  },
  {
   "cell_type": "markdown",
   "metadata": {},
   "source": [
    "redo the same maps as before but now with each bubble the color of its continent"
   ]
  },
  {
   "cell_type": "code",
   "execution_count": 16,
   "metadata": {},
   "outputs": [],
   "source": [
    "#Same map as before but with continent colors\n",
    "#fig = px.scatter_geo()\n",
    "#fig.show()\n"
   ]
  },
  {
   "cell_type": "markdown",
   "metadata": {},
   "source": [
    "Improves the function that used to make a bar plot based on a departure year, an arrival year and a top number of countries to be displayed. But this time the color of the bars depends on the continent."
   ]
  },
  {
   "cell_type": "code",
   "execution_count": 17,
   "metadata": {},
   "outputs": [],
   "source": [
    "#The function\n",
    "\n",
    "\n",
    "def top_n_emitters_v2(df, start_year=2008, end_year=2011, nb_displayed=10):\n",
    "\n"
   ]
  },
  {
   "cell_type": "code",
   "execution_count": 18,
   "metadata": {},
   "outputs": [],
   "source": [
    "#use it\n",
    "\n",
    "\n",
    "fig = top_n_emitters_v2(co2_df_to_plot, 1970, 1982, 15)\n",
    "fig.show() \n"
   ]
  },
  {
   "cell_type": "markdown",
   "metadata": {},
   "source": [
    "Make a new map. Use the __choropleth__ map. Chose the map you prefer for you streamlit app\n",
    "\n",
    "Also make a frame animation according to the years"
   ]
  },
  {
   "cell_type": "code",
   "execution_count": 19,
   "metadata": {},
   "outputs": [],
   "source": [
    "#fig = px.choropleth()\n",
    "#fig.show()\n"
   ]
  },
  {
   "cell_type": "markdown",
   "metadata": {},
   "source": [
    "## Streamlit\n",
    "\n",
    "\n",
    "Add graphs from part 2 to the same streamlit app as part 1"
   ]
  }
 ],
 "metadata": {
  "kernelspec": {
   "display_name": "Artefact",
   "language": "python",
   "name": "python3"
  },
  "language_info": {
   "codemirror_mode": {
    "name": "ipython",
    "version": 3
   },
   "file_extension": ".py",
   "mimetype": "text/x-python",
   "name": "python",
   "nbconvert_exporter": "python",
   "pygments_lexer": "ipython3",
   "version": "3.10.12"
  }
 },
 "nbformat": 4,
 "nbformat_minor": 2
}
